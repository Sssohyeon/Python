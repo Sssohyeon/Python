{
 "cells": [
  {
   "cell_type": "code",
   "execution_count": 2,
   "id": "ba1f73a3",
   "metadata": {},
   "outputs": [
    {
     "data": {
      "text/plain": [
       "13"
      ]
     },
     "execution_count": 2,
     "metadata": {},
     "output_type": "execute_result"
    }
   ],
   "source": [
    "num1 = 13\n",
    "num1"
   ]
  },
  {
   "cell_type": "code",
   "execution_count": 3,
   "id": "18531656",
   "metadata": {},
   "outputs": [
    {
     "data": {
      "text/plain": [
       "25"
      ]
     },
     "execution_count": 3,
     "metadata": {},
     "output_type": "execute_result"
    }
   ],
   "source": [
    "num2= 25\n",
    "num2"
   ]
  },
  {
   "cell_type": "code",
   "execution_count": 4,
   "id": "e0b8ffcb",
   "metadata": {},
   "outputs": [
    {
     "data": {
      "text/plain": [
       "77"
      ]
     },
     "execution_count": 4,
     "metadata": {},
     "output_type": "execute_result"
    }
   ],
   "source": [
    "num2 = 77\n",
    "num2"
   ]
  },
  {
   "cell_type": "code",
   "execution_count": 5,
   "id": "32661cc8",
   "metadata": {},
   "outputs": [
    {
     "data": {
      "text/plain": [
       "int"
      ]
     },
     "execution_count": 5,
     "metadata": {},
     "output_type": "execute_result"
    }
   ],
   "source": [
    "#type는 변수의 자료형 확인하는 함수\n",
    "type(num2)"
   ]
  },
  {
   "cell_type": "code",
   "execution_count": null,
   "id": "c21d51cd",
   "metadata": {},
   "outputs": [],
   "source": [
    "num3 = 3.1425\n",
    "num3"
   ]
  },
  {
   "cell_type": "code",
   "execution_count": null,
   "id": "a1c7ebcd",
   "metadata": {},
   "outputs": [],
   "source": [
    "num4 = 1.25\n",
    "num4"
   ]
  },
  {
   "cell_type": "code",
   "execution_count": null,
   "id": "527234b1",
   "metadata": {},
   "outputs": [],
   "source": [
    "num4 = 3.12\n",
    "num4"
   ]
  },
  {
   "cell_type": "code",
   "execution_count": null,
   "id": "9293fc50",
   "metadata": {},
   "outputs": [],
   "source": [
    "type(num4)"
   ]
  },
  {
   "cell_type": "code",
   "execution_count": null,
   "id": "a03b6faf",
   "metadata": {},
   "outputs": [],
   "source": [
    "str1 = \"Funny python\"\n",
    "str1"
   ]
  },
  {
   "cell_type": "code",
   "execution_count": null,
   "id": "1d16ed98",
   "metadata": {},
   "outputs": [],
   "source": [
    "str2 = 'Easy python'\n",
    "str2"
   ]
  },
  {
   "cell_type": "code",
   "execution_count": null,
   "id": "41bf04f3",
   "metadata": {},
   "outputs": [],
   "source": [
    "type(str2)"
   ]
  },
  {
   "cell_type": "code",
   "execution_count": null,
   "id": "2548b5f2",
   "metadata": {},
   "outputs": [],
   "source": [
    "number = 10\n",
    "Number = 20\n",
    "\n",
    "number\n",
    "Number  # 20 이렇게 적으면 마지막에 있는 변수만 저장 된다. (위에 있는 number의 값 출력 xx)\n",
    "print(\"number :\", number)\n",
    "print(\"Number :\", Number)# 두 변수 다 출력하고 싶으면 print함수를 사용하면 됨!"
   ]
  },
  {
   "cell_type": "code",
   "execution_count": null,
   "id": "af4eced3",
   "metadata": {},
   "outputs": [],
   "source": [
    "1a = 10"
   ]
  },
  {
   "cell_type": "code",
   "execution_count": null,
   "id": "c95674b9",
   "metadata": {},
   "outputs": [],
   "source": [
    "if #짙은 초록 예약어-> 예약어는 변수로 사용 안 됨\n",
    "for\n",
    "class\n",
    "print #초록 명령어 -> 명령어는  면수로 가능하지만, 원래 기능이 사라진다.\n",
    "sum\n",
    "max"
   ]
  },
  {
   "cell_type": "code",
   "execution_count": 6,
   "id": "014daf00",
   "metadata": {
    "scrolled": false
   },
   "outputs": [
    {
     "data": {
      "text/plain": [
       "['False',\n",
       " 'None',\n",
       " 'True',\n",
       " '__peg_parser__',\n",
       " 'and',\n",
       " 'as',\n",
       " 'assert',\n",
       " 'async',\n",
       " 'await',\n",
       " 'break',\n",
       " 'class',\n",
       " 'continue',\n",
       " 'def',\n",
       " 'del',\n",
       " 'elif',\n",
       " 'else',\n",
       " 'except',\n",
       " 'finally',\n",
       " 'for',\n",
       " 'from',\n",
       " 'global',\n",
       " 'if',\n",
       " 'import',\n",
       " 'in',\n",
       " 'is',\n",
       " 'lambda',\n",
       " 'nonlocal',\n",
       " 'not',\n",
       " 'or',\n",
       " 'pass',\n",
       " 'raise',\n",
       " 'return',\n",
       " 'try',\n",
       " 'while',\n",
       " 'with',\n",
       " 'yield']"
      ]
     },
     "execution_count": 6,
     "metadata": {},
     "output_type": "execute_result"
    }
   ],
   "source": [
    "import keyword # 예약어 종류\n",
    "keyword.kwlist"
   ]
  },
  {
   "cell_type": "code",
   "execution_count": null,
   "id": "1d7d49b9",
   "metadata": {},
   "outputs": [],
   "source": [
    "a=10 \n",
    "b=15\n",
    "print(a)\n",
    "print(b)"
   ]
  },
  {
   "cell_type": "code",
   "execution_count": null,
   "id": "75ef4d05",
   "metadata": {},
   "outputs": [],
   "source": [
    "a, b = 10, 15 #python은 콤마로도 변수 값 저장이 가능하다\n",
    "print(a)\n",
    "print(b)"
   ]
  },
  {
   "cell_type": "code",
   "execution_count": null,
   "id": "56880b95",
   "metadata": {},
   "outputs": [],
   "source": [
    "str1 = \"python\"\n",
    "str2 = \"python\"\n",
    "print(str1)\n",
    "print(str2)"
   ]
  },
  {
   "cell_type": "code",
   "execution_count": null,
   "id": "5cf9c4cc",
   "metadata": {},
   "outputs": [],
   "source": [
    "str1 = str2 = \"python\"\n",
    "\n",
    "print(str1)\n",
    "print(str2)"
   ]
  },
  {
   "cell_type": "code",
   "execution_count": null,
   "id": "99573551",
   "metadata": {},
   "outputs": [],
   "source": [
    "x, y = 100, 200\n",
    "sum = x + y  #sum을 변수로 사용\n",
    "print(sum)"
   ]
  },
  {
   "cell_type": "code",
   "execution_count": 1,
   "id": "770c10f4",
   "metadata": {},
   "outputs": [
    {
     "data": {
      "text/plain": [
       "10"
      ]
     },
     "execution_count": 1,
     "metadata": {},
     "output_type": "execute_result"
    }
   ],
   "source": [
    "sum([1,2,3,4]) # 에러가 나는 이유는 위에 sum을 변수로 사용해서 에러가 뜬다. \n",
    "\n",
    "#kernel -> Restart & Clear Output 선택하면 실행 값들이 없어짐"
   ]
  },
  {
   "cell_type": "code",
   "execution_count": 4,
   "id": "afbf3931",
   "metadata": {},
   "outputs": [
    {
     "ename": "SyntaxError",
     "evalue": "invalid syntax (3758320302.py, line 1)",
     "output_type": "error",
     "traceback": [
      "\u001b[1;36m  Input \u001b[1;32mIn [4]\u001b[1;36m\u001b[0m\n\u001b[1;33m    s = 'she's gone'\u001b[0m\n\u001b[1;37m             ^\u001b[0m\n\u001b[1;31mSyntaxError\u001b[0m\u001b[1;31m:\u001b[0m invalid syntax\n"
     ]
    }
   ],
   "source": [
    "s = 'she's gone'  # 따옴표 오류\n",
    "s"
   ]
  },
  {
   "cell_type": "code",
   "execution_count": 7,
   "id": "1b8ac334",
   "metadata": {},
   "outputs": [
    {
     "name": "stdout",
     "output_type": "stream",
     "text": [
      "she's gone\n",
      "she's gone\n"
     ]
    }
   ],
   "source": [
    "s1 = \"she's gone\" #큰 따옴표로 변경\n",
    "s2 = 'she\\'s gone' # \\' 사용\n",
    "print(s1)\n",
    "print(s2)"
   ]
  },
  {
   "cell_type": "code",
   "execution_count": 57,
   "id": "07d8dbb4",
   "metadata": {
    "scrolled": true
   },
   "outputs": [
    {
     "name": "stdout",
     "output_type": "stream",
     "text": [
      "he said that'she is gone'\n",
      "he said that\"she is gone\"\n",
      "s gone'\n"
     ]
    }
   ],
   "source": [
    "s1 = \"he said that'she is gone'\"\n",
    "s2 = \"he said that\\\"she is gone\\\"\"\n",
    "print(s1)\n",
    "print(s2)\n",
    "len(s1)\n",
    "print(s1[-7:])\n",
    "#문자열 안에 작은따옴표나 큰따옴표를 포함시키고 싶을 때"
   ]
  },
  {
   "cell_type": "code",
   "execution_count": 7,
   "id": "581d05de",
   "metadata": {},
   "outputs": [
    {
     "ename": "SyntaxError",
     "evalue": "invalid syntax (2669325554.py, line 1)",
     "output_type": "error",
     "traceback": [
      "\u001b[1;36m  Input \u001b[1;32mIn [7]\u001b[1;36m\u001b[0m\n\u001b[1;33m    he said that'she is gone\u001b[0m\n\u001b[1;37m       ^\u001b[0m\n\u001b[1;31mSyntaxError\u001b[0m\u001b[1;31m:\u001b[0m invalid syntax\n"
     ]
    }
   ],
   "source": []
  },
  {
   "cell_type": "code",
   "execution_count": 10,
   "id": "e734fa70",
   "metadata": {},
   "outputs": [
    {
     "name": "stdout",
     "output_type": "stream",
     "text": [
      "여러줄로 구성된 \n",
      " 문자열을 하나로 대입할 때\n"
     ]
    }
   ],
   "source": [
    "s= \"여러줄로 구성된 \\n 문자열을 하나로 대입할 때\"\n",
    "print(s)"
   ]
  },
  {
   "cell_type": "code",
   "execution_count": 12,
   "id": "c438fbf5",
   "metadata": {},
   "outputs": [
    {
     "name": "stdout",
     "output_type": "stream",
     "text": [
      "여러줄로 구성된 문자열을 하나로 대입할 때\n"
     ]
    }
   ],
   "source": [
    "s = '''여러줄로 구성된\n",
    "문자열을 하나로 \n",
    "대입할 때'''\n",
    "print(s)"
   ]
  },
  {
   "cell_type": "code",
   "execution_count": 13,
   "id": "333321e5",
   "metadata": {},
   "outputs": [
    {
     "name": "stdout",
     "output_type": "stream",
     "text": [
      "여러줄로 구성된 \t 문자열을 하나로 대입할 때\n"
     ]
    }
   ],
   "source": [
    "s = '''여러줄로 구성된 \\t 문자열을 하나로 대입할 때'''\n",
    "print(s)"
   ]
  },
  {
   "cell_type": "code",
   "execution_count": 20,
   "id": "b9321abd",
   "metadata": {},
   "outputs": [
    {
     "name": "stdout",
     "output_type": "stream",
     "text": [
      "S\n",
      "H\n"
     ]
    }
   ],
   "source": [
    "s = \"My name is SH\"\n",
    "print(s[11])\n",
    "print(s[12])"
   ]
  },
  {
   "cell_type": "code",
   "execution_count": 27,
   "id": "7c715b90",
   "metadata": {},
   "outputs": [
    {
     "name": "stdout",
     "output_type": "stream",
     "text": [
      "S\n",
      "H\n"
     ]
    }
   ],
   "source": [
    "s = \"My name is SH\"\n",
    "print(s[-2])\n",
    "print(s[-1])"
   ]
  },
  {
   "cell_type": "code",
   "execution_count": 28,
   "id": "051d90e1",
   "metadata": {},
   "outputs": [
    {
     "name": "stdout",
     "output_type": "stream",
     "text": [
      "My\n",
      "name\n",
      "is\n"
     ]
    }
   ],
   "source": [
    "s = \"My name is SH\"\n",
    "print(s[0:2])\n",
    "print(s[3:7])\n",
    "print(s[8:10])"
   ]
  },
  {
   "cell_type": "code",
   "execution_count": 30,
   "id": "0b21bd2a",
   "metadata": {
    "scrolled": true
   },
   "outputs": [
    {
     "name": "stdout",
     "output_type": "stream",
     "text": [
      "My name\n",
      "My name\n",
      "My name is SH\n"
     ]
    }
   ],
   "source": [
    "s = \"My name is SH\"\n",
    "print(s[0:7])\n",
    "print(s[:7])\n",
    "print(s[:])"
   ]
  },
  {
   "cell_type": "code",
   "execution_count": 38,
   "id": "f39e2011",
   "metadata": {},
   "outputs": [
    {
     "name": "stdout",
     "output_type": "stream",
     "text": [
      "is SH\n",
      "is SH\n",
      "is SH\n"
     ]
    }
   ],
   "source": [
    "s = \"My name is SH\"\n",
    "print(s[8:13])\n",
    "print(s[8:])\n",
    "print(s[-5:])"
   ]
  },
  {
   "cell_type": "code",
   "execution_count": 42,
   "id": "f1c318df",
   "metadata": {},
   "outputs": [
    {
     "name": "stdout",
     "output_type": "stream",
     "text": [
      "My name is SH\n",
      "My name is SH\n",
      "My name is SH\n"
     ]
    }
   ],
   "source": [
    "s = \"My name is SH\"\n",
    "print(s[-13:])\n",
    "print(s[:])\n",
    "print(s[0:])\n",
    "print(s) #변수 선택하면 모든 문자 출력"
   ]
  },
  {
   "cell_type": "code",
   "execution_count": 50,
   "id": "e2a8a819",
   "metadata": {},
   "outputs": [
    {
     "name": "stdout",
     "output_type": "stream",
     "text": [
      "날짜: 2020년 3월 3일\n",
      "날씨: 맑음\n"
     ]
    }
   ],
   "source": [
    "s = \"2020년 3월 3일의 날씨는 맑음입니다.\"\n",
    "print(\"날짜:\", s[:11])   # 콤마 써주기!\n",
    "print(\"날씨:\", s[17:19]) #(s[-6:-4])\n"
   ]
  },
  {
   "cell_type": "code",
   "execution_count": null,
   "id": "16dfdd3e",
   "metadata": {},
   "outputs": [],
   "source": []
  }
 ],
 "metadata": {
  "kernelspec": {
   "display_name": "Python 3 (ipykernel)",
   "language": "python",
   "name": "python3"
  },
  "language_info": {
   "codemirror_mode": {
    "name": "ipython",
    "version": 3
   },
   "file_extension": ".py",
   "mimetype": "text/x-python",
   "name": "python",
   "nbconvert_exporter": "python",
   "pygments_lexer": "ipython3",
   "version": "3.9.12"
  },
  "toc": {
   "base_numbering": 1,
   "nav_menu": {},
   "number_sections": true,
   "sideBar": true,
   "skip_h1_title": false,
   "title_cell": "Table of Contents",
   "title_sidebar": "Contents",
   "toc_cell": false,
   "toc_position": {},
   "toc_section_display": true,
   "toc_window_display": false
  }
 },
 "nbformat": 4,
 "nbformat_minor": 5
}
