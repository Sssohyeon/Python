{
 "cells": [
  {
   "cell_type": "code",
   "execution_count": 1,
   "id": "b7eb83e6",
   "metadata": {},
   "outputs": [
    {
     "name": "stdout",
     "output_type": "stream",
     "text": [
      "이름 입력>>2\n",
      "2 최고!\n",
      "이름입력>>2\n",
      "2 최고!\n",
      "이름입력>>2\n",
      "2 최고!\n",
      "이름입력>>2\n",
      "2 최고!\n",
      "이름입력>>2\n",
      "2 최고!\n",
      "이름입력>>2\n",
      "2 최고!\n",
      "이름입력>>2\n",
      "2 최고!\n",
      "이름입력>>2\n",
      "2 최고!\n",
      "이름입력>>2\n",
      "2 최고!\n",
      "이름입력>>최서웅\n",
      "최서웅 최고!\n",
      "이름입력>>최서우\n",
      "최서우 최고!\n",
      "이름입력>>최성우\n",
      "최성우 멋지다!\n"
     ]
    }
   ],
   "source": [
    "name = input(\"이름 입력>>\")\n",
    "while name:\n",
    "    print(f\"{name} 최고!\")\n",
    "    name = input(\"이름입력>>\")\n",
    "\n",
    "    if name == '최성우':\n",
    "        print(f\"{name} 멋지다!\")\n",
    "        break"
   ]
  },
  {
   "cell_type": "code",
   "execution_count": 2,
   "id": "9d2422da",
   "metadata": {},
   "outputs": [
    {
     "name": "stdout",
     "output_type": "stream",
     "text": [
      "첫 번째 정수 입력>>0\n",
      "두 번째 정수 입력>>0\n",
      "두 정수의 합 :0\n",
      "프로그램이 종료되었습니다.\n"
     ]
    }
   ],
   "source": [
    "while True:\n",
    "    num1 = int(input(\"첫 번째 정수 입력>>\"))\n",
    "    num2 = int(input(\"두 번째 정수 입력>>\"))\n",
    "    print (f\"두 정수의 합 :{num1+num2}\") #이거랑 마지막에 코드 넣는거 차이\n",
    "    if num1 == 0 and num2 == 0:\n",
    "        print(\"프로그램이 종료되었습니다.\")\n",
    "        break"
   ]
  },
  {
   "cell_type": "markdown",
   "id": "8bec5ac4",
   "metadata": {},
   "source": [
    "# 밑에 주석 처리 한 것이 틀린것은 break 문이 종료 시키는 것인데 if문 조건이 무조건 만족이어서 break문이 실행이 되서 주석 아래 처럼 바꿔줘야한다."
   ]
  },
  {
   "cell_type": "code",
   "execution_count": 3,
   "id": "941e0b60",
   "metadata": {},
   "outputs": [
    {
     "name": "stdout",
     "output_type": "stream",
     "text": [
      "현재 몸무게 :0\n",
      "목표 몸무게 :0\n",
      "1주차 감량 몸무게 :0\n",
      "2주차 감량 몸무게 :0\n",
      "3주차 감량 몸무게 :0\n",
      "4주차 감량 몸무게 :0\n",
      "0kg 달성!! 축하합니다!\n"
     ]
    }
   ],
   "source": [
    "#s_weight=int(input(\"현재 몸무게 :\"))\n",
    "#g_weight = int(input(\"목표 몸무게 :\"))\n",
    "#num=1\n",
    "#a = s_weight\n",
    "#while True:\n",
    "   \n",
    "#    if num<=4:\n",
    "        \n",
    "#        w_weight = int(input(\"%d주차 감량 몸무게 :\"%num))\n",
    "#        num=num+1\n",
    "#        a-=w_weight\n",
    "   \n",
    "#    break\n",
    "#print(f\"{a}kg 달성!! 축하합니다!\")\n",
    "\n",
    "\n",
    "\n",
    "s_wight=int(input(\"현재 몸무게 :\"))\n",
    "g_wight = int(input(\"목표 몸무게 :\"))\n",
    "num=1\n",
    "a = s_wight\n",
    "while True:\n",
    "        w_wight = int(input(\"%d주차 감량 몸무게 :\"%num))\n",
    "        num=num+1\n",
    "        a-=w_wight\n",
    "        if num>4:\n",
    "            break\n",
    "print(f\"{a}kg 달성!! 축하합니다!\")"
   ]
  },
  {
   "cell_type": "code",
   "execution_count": 4,
   "id": "076f39b3",
   "metadata": {},
   "outputs": [
    {
     "name": "stdout",
     "output_type": "stream",
     "text": [
      "현재 몸무게 : 0\n",
      "목표 몸무게 : 0\n",
      "1주차별 감량 몸무게 : 0\n",
      "2주차별 감량 몸무게 : 0\n",
      "3주차별 감량 몸무게 : 0\n",
      "4주차별 감량 몸무게 : 0\n",
      "5주차별 감량 몸무게 : 0\n",
      "6주차별 감량 몸무게 : 0\n",
      "7주차별 감량 몸무게 : 0\n",
      "8주차별 감량 몸무게 : 0\n",
      "9주차별 감량 몸무게 : 0\n",
      "10주차별 감량 몸무게 : 0\n",
      "11주차별 감량 몸무게 : 0\n",
      "12주차별 감량 몸무게 : 01\n",
      "-1kg 달성!! 축하합니다!\n"
     ]
    }
   ],
   "source": [
    "#다이어트\n",
    "cur_weight = int(input('현재 몸무게 : '))\n",
    "goal_weight = int(input('목표 몸무게 : '))\n",
    "num = 1\n",
    "# 현재몸무게가 목표몸무게보다 큰 경우 감량을 반복해줘야하므로 조건 설정!\n",
    "while cur_weight >= goal_weight:\n",
    "    week_weight = int(input(f'{num}주차별 감량 몸무게 : '))\n",
    "    num += 1\n",
    "    cur_weight -= week_weight\n",
    "print(f'{cur_weight}kg 달성!! 축하합니다!')"
   ]
  },
  {
   "cell_type": "code",
   "execution_count": 5,
   "id": "4a1875f6",
   "metadata": {},
   "outputs": [
    {
     "data": {
      "text/plain": [
       "30"
      ]
     },
     "execution_count": 5,
     "metadata": {},
     "output_type": "execute_result"
    }
   ],
   "source": [
    "import random\n",
    "random.randint(1,50)"
   ]
  },
  {
   "cell_type": "code",
   "execution_count": 6,
   "id": "1926d2a1",
   "metadata": {},
   "outputs": [
    {
     "name": "stdout",
     "output_type": "stream",
     "text": [
      "숫자를 입력하세요 >> 0\n",
      "0보다 큰 수 입니다.\n",
      "숫자를 입력하세요 >> 0\n",
      "0보다 큰 수 입니다.\n",
      "숫자를 입력하세요 >> 0\n",
      "0보다 큰 수 입니다.\n",
      "숫자를 입력하세요 >> 01\n",
      "1보다 큰 수 입니다.\n",
      "숫자를 입력하세요 >> 2\n",
      "2보다 큰 수 입니다.\n",
      "숫자를 입력하세요 >> \n"
     ]
    },
    {
     "ename": "ValueError",
     "evalue": "invalid literal for int() with base 10: ''",
     "output_type": "error",
     "traceback": [
      "\u001b[1;31m---------------------------------------------------------------------------\u001b[0m",
      "\u001b[1;31mValueError\u001b[0m                                Traceback (most recent call last)",
      "Input \u001b[1;32mIn [6]\u001b[0m, in \u001b[0;36m<cell line: 4>\u001b[1;34m()\u001b[0m\n\u001b[0;32m      1\u001b[0m num \u001b[38;5;241m=\u001b[39m random\u001b[38;5;241m.\u001b[39mrandint(\u001b[38;5;241m1\u001b[39m,\u001b[38;5;241m50\u001b[39m)\n\u001b[0;32m      3\u001b[0m \u001b[38;5;28;01mwhile\u001b[39;00m \u001b[38;5;28;01mTrue\u001b[39;00m:\n\u001b[1;32m----> 4\u001b[0m     NUM\u001b[38;5;241m=\u001b[39m \u001b[38;5;28;43mint\u001b[39;49m\u001b[43m(\u001b[49m\u001b[38;5;28;43minput\u001b[39;49m\u001b[43m(\u001b[49m\u001b[38;5;124;43m\"\u001b[39;49m\u001b[38;5;124;43m숫자를 입력하세요 >> \u001b[39;49m\u001b[38;5;124;43m\"\u001b[39;49m\u001b[43m)\u001b[49m\u001b[43m)\u001b[49m\n\u001b[0;32m      5\u001b[0m     \u001b[38;5;28;01mif\u001b[39;00m num \u001b[38;5;241m<\u001b[39mNUM:\n\u001b[0;32m      6\u001b[0m         \u001b[38;5;28mprint\u001b[39m(\u001b[38;5;124mf\u001b[39m\u001b[38;5;124m\"\u001b[39m\u001b[38;5;132;01m{\u001b[39;00mNUM\u001b[38;5;132;01m}\u001b[39;00m\u001b[38;5;124m보다 작은 수 입니다.\u001b[39m\u001b[38;5;124m\"\u001b[39m)\n",
      "\u001b[1;31mValueError\u001b[0m: invalid literal for int() with base 10: ''"
     ]
    }
   ],
   "source": [
    "num = random.randint(1,50)\n",
    "\n",
    "while True:\n",
    "    NUM= int(input(\"숫자를 입력하세요 >> \"))\n",
    "    if num <NUM:\n",
    "        print(f\"{NUM}보다 작은 수 입니다.\")\n",
    "    elif num>NUM:\n",
    "        print(f\"{NUM}보다 큰 수 입니다.\")\n",
    "    else:\n",
    "        print(f\"정답을 맞추셨습니다.\")\n",
    "        break\n",
    "  "
   ]
  },
  {
   "cell_type": "markdown",
   "id": "41a56b80",
   "metadata": {},
   "source": [
    "# for 문 => 순서가 있는 인덱스만 가능하다."
   ]
  },
  {
   "cell_type": "code",
   "execution_count": 7,
   "id": "61ab2396",
   "metadata": {},
   "outputs": [
    {
     "name": "stdout",
     "output_type": "stream",
     "text": [
      "햄버거\n",
      "치킨\n",
      "피자\n"
     ]
    }
   ],
   "source": [
    "list_food = ['햄버거', '치킨', '피자']\n",
    "for food in list_food:\n",
    "    print(food)"
   ]
  },
  {
   "cell_type": "code",
   "execution_count": 8,
   "id": "514c8889",
   "metadata": {},
   "outputs": [
    {
     "name": "stdout",
     "output_type": "stream",
     "text": [
      "안\n",
      "녕\n",
      "하\n",
      "세\n",
      "요\n"
     ]
    }
   ],
   "source": [
    "hi = \"안녕하세요\" #인덱스 1-> 안 2->녕 ..이런식으로 들어가서\n",
    "for s in hi:\n",
    "    print(s)"
   ]
  },
  {
   "cell_type": "code",
   "execution_count": 9,
   "id": "bb4243d9",
   "metadata": {},
   "outputs": [
    {
     "name": "stdout",
     "output_type": "stream",
     "text": [
      "햄버거\n",
      "치킨\n",
      "피자\n"
     ]
    }
   ],
   "source": [
    "tuple_food = (\"햄버거\", \"치킨\", \"피자\")\n",
    "for food in tuple_food:\n",
    "    print(food)"
   ]
  },
  {
   "cell_type": "code",
   "execution_count": 10,
   "id": "4dea2643",
   "metadata": {},
   "outputs": [
    {
     "ename": "NameError",
     "evalue": "name 'score' is not defined",
     "output_type": "error",
     "traceback": [
      "\u001b[1;31m---------------------------------------------------------------------------\u001b[0m",
      "\u001b[1;31mNameError\u001b[0m                                 Traceback (most recent call last)",
      "Input \u001b[1;32mIn [10]\u001b[0m, in \u001b[0;36m<cell line: 3>\u001b[1;34m()\u001b[0m\n\u001b[0;32m      1\u001b[0m score_list \u001b[38;5;241m=\u001b[39m [\u001b[38;5;241m90\u001b[39m,\u001b[38;5;241m45\u001b[39m,\u001b[38;5;241m70\u001b[39m,\u001b[38;5;241m60\u001b[39m,\u001b[38;5;241m55\u001b[39m]\n\u001b[1;32m----> 3\u001b[0m \u001b[38;5;28;01mif\u001b[39;00m \u001b[43mscore\u001b[49m \u001b[38;5;241m>\u001b[39m\u001b[38;5;241m=\u001b[39m \u001b[38;5;241m60\u001b[39m:\n\u001b[0;32m      4\u001b[0m     a\u001b[38;5;241m=\u001b[39m(\u001b[38;5;124m\"\u001b[39m\u001b[38;5;124m합격\u001b[39m\u001b[38;5;124m\"\u001b[39m)\n\u001b[0;32m      5\u001b[0m \u001b[38;5;28;01melse\u001b[39;00m:\n",
      "\u001b[1;31mNameError\u001b[0m: name 'score' is not defined"
     ]
    }
   ],
   "source": [
    "score_list = [90,45,70,60,55]\n",
    "\n",
    "if score >= 60:\n",
    "    a=(\"합격\")\n",
    "else:\n",
    "    a= (\"불합격\")\n",
    "    for score in score_list:\n",
    "    \n",
    "        print(\"{len(score)}학생은 {a}입니다.\")\n"
   ]
  },
  {
   "cell_type": "code",
   "execution_count": 11,
   "id": "328d1ff9",
   "metadata": {},
   "outputs": [
    {
     "ename": "SyntaxError",
     "evalue": "invalid syntax (2245195591.py, line 1)",
     "output_type": "error",
     "traceback": [
      "\u001b[1;36m  Input \u001b[1;32mIn [11]\u001b[1;36m\u001b[0m\n\u001b[1;33m    .#합격 불합격 판별\u001b[0m\n\u001b[1;37m    ^\u001b[0m\n\u001b[1;31mSyntaxError\u001b[0m\u001b[1;31m:\u001b[0m invalid syntax\n"
     ]
    }
   ],
   "source": [
    ".#합격 불합격 판별\n",
    "score_list = [90,45,70,60,55]\n",
    "num =1  \n",
    "for score in score_list:\n",
    "       \n",
    "    if score >= 60:\n",
    "        print(f\"{num}번 학생은 합격입니다.\")\n",
    "    else:\n",
    "        print(f\"{num}번 학생은 불합격입니다.\")\n",
    "    num+=1"
   ]
  },
  {
   "cell_type": "code",
   "execution_count": 12,
   "id": "bfeeaf3a",
   "metadata": {},
   "outputs": [
    {
     "name": "stdout",
     "output_type": "stream",
     "text": [
      "1번은 57점 이며, C등급 입니다.\n",
      "2번은 86점 이며, A등급 입니다.\n",
      "3번은 63점 이며, B등급 입니다.\n",
      "4번은 92점 이며, A등급 입니다.\n",
      "5번은 35점 이며, C등급 입니다.\n",
      "6번은 79점 이며, B등급 입니다.\n"
     ]
    }
   ],
   "source": [
    "python_score= [57, 86, 63, 92,35,79]\n",
    "num=0\n",
    "for score in python_score:\n",
    "    num+=1\n",
    "    if score >= 80:\n",
    "        print(f\"{num}번은 {score}점 이며, A등급 입니다.\")\n",
    "    elif score >= 60:\n",
    "        print(f\"{num}번은 {score}점 이며, B등급 입니다.\")\n",
    "    else:\n",
    "        print(f\"{num}번은 {score}점 이며, C등급 입니다.\")"
   ]
  },
  {
   "cell_type": "markdown",
   "id": "3e70e44f",
   "metadata": {},
   "source": [
    "# 위랑 같은 문제 "
   ]
  },
  {
   "cell_type": "code",
   "execution_count": 13,
   "id": "312a02b8",
   "metadata": {},
   "outputs": [
    {
     "name": "stdout",
     "output_type": "stream",
     "text": [
      "1번은 57점 이며, C등급 입니다.\n",
      "2번은 86점 이며, A등급 입니다.\n",
      "3번은 63점 이며, B등급 입니다.\n",
      "4번은 92점 이며, A등급 입니다.\n",
      "5번은 35점 이며, C등급 입니다.\n",
      "6번은 79점 이며, B등급 입니다.\n"
     ]
    }
   ],
   "source": [
    "python_score= [57, 86, 63, 92,35,79]\n",
    "num=0\n",
    "for score in python_score:\n",
    "    num+=1\n",
    "    if score >= 80:\n",
    "        grade = \"A\"\n",
    "    elif score >= 60:\n",
    "        grade = \"B\"\n",
    "    else:\n",
    "        grade = \"C\"\n",
    "    print(f\"{num}번은 {score}점 이며, {grade}등급 입니다.\")"
   ]
  },
  {
   "cell_type": "code",
   "execution_count": 14,
   "id": "8880a3ac",
   "metadata": {},
   "outputs": [
    {
     "name": "stdout",
     "output_type": "stream",
     "text": [
      "1\n",
      "2\n",
      "3\n",
      "4\n",
      "5\n",
      "6\n",
      "7\n",
      "8\n",
      "9\n"
     ]
    }
   ],
   "source": [
    "for i in range(1,10,1):  #1부터 9까지 1씩 증가\n",
    "    print(i)"
   ]
  },
  {
   "cell_type": "markdown",
   "id": "08630db4",
   "metadata": {},
   "source": [
    "# end = \" \" 속성"
   ]
  },
  {
   "cell_type": "code",
   "execution_count": 15,
   "id": "1d14cfa0",
   "metadata": {},
   "outputs": [
    {
     "name": "stdout",
     "output_type": "stream",
     "text": [
      "1&2&3&4&5&6&7&8&9&"
     ]
    }
   ],
   "source": [
    "for i in range(1,10,1):  #1부터 9까지 1씩 증가\n",
    "    print(i, end = \"&\") #end = \"\"을 쓰면 줄 바꿈이 각각의 값들 사이에 들어간다. 공백=> 띄어쓰기"
   ]
  },
  {
   "cell_type": "markdown",
   "id": "13be6109",
   "metadata": {},
   "source": [
    "# 97 ~ 77 까지 1씩 감소"
   ]
  },
  {
   "cell_type": "code",
   "execution_count": 16,
   "id": "c2075f25",
   "metadata": {},
   "outputs": [
    {
     "name": "stdout",
     "output_type": "stream",
     "text": [
      "97 96 95 94 93 92 91 90 89 88 87 86 85 84 83 82 81 80 79 78 77 "
     ]
    }
   ],
   "source": [
    "for i in range(97, 76,-1):\n",
    "    print(i, end = \" \")"
   ]
  },
  {
   "cell_type": "code",
   "execution_count": 17,
   "id": "1131954f",
   "metadata": {},
   "outputs": [
    {
     "name": "stdout",
     "output_type": "stream",
     "text": [
      "29 30 31 32 33 34 35 36 37 38 39 "
     ]
    }
   ],
   "source": [
    "for i in range(29,40):\n",
    "    print(i, end = \" \")"
   ]
  },
  {
   "cell_type": "code",
   "execution_count": 18,
   "id": "47180061",
   "metadata": {},
   "outputs": [
    {
     "name": "stdout",
     "output_type": "stream",
     "text": [
      "2 4 6 8 10 12 14 16 18 20 22 24 26 28 30 32 34 36 38 40 42 44 46 48 50 52 54 56 58 60 62 64 66 68 70 72 74 76 78 80 82 84 86 88 90 92 94 96 98 100 "
     ]
    }
   ],
   "source": [
    "for i in range(2, 101, 2):\n",
    "    print(i, end = \" \")"
   ]
  },
  {
   "cell_type": "code",
   "execution_count": 19,
   "id": "0af26bff",
   "metadata": {},
   "outputs": [
    {
     "name": "stdout",
     "output_type": "stream",
     "text": [
      "3 6 9 12 15 18 21 24 27 30 33 36 39 42 45 48 51 54 57 60 63 66 69 72 75 78 81 84 87 90 93 96 99 "
     ]
    }
   ],
   "source": [
    "for i in range(3,101,3):\n",
    "    print(i,end = \" \")"
   ]
  },
  {
   "cell_type": "code",
   "execution_count": 20,
   "id": "be7a0167",
   "metadata": {},
   "outputs": [
    {
     "name": "stdout",
     "output_type": "stream",
     "text": [
      "1 2\n",
      "3 4\n",
      "5 6\n"
     ]
    }
   ],
   "source": [
    "list1 = [[1,2], [3,4],[5,6]]\n",
    "for i,j in list1:\n",
    "    print(i,j)"
   ]
  },
  {
   "cell_type": "code",
   "execution_count": 21,
   "id": "33333063",
   "metadata": {},
   "outputs": [
    {
     "name": "stdout",
     "output_type": "stream",
     "text": [
      "1\n",
      "7\n"
     ]
    }
   ],
   "source": [
    "a,b = 1, 7\n",
    "print(a)\n",
    "print(b)"
   ]
  },
  {
   "cell_type": "markdown",
   "id": "3b0ffde4",
   "metadata": {},
   "source": [
    "# 최댓값찾기\n",
    "\n"
   ]
  },
  {
   "cell_type": "code",
   "execution_count": 22,
   "id": "3f3e4764",
   "metadata": {},
   "outputs": [
    {
     "name": "stdout",
     "output_type": "stream",
     "text": [
      "99\n"
     ]
    }
   ],
   "source": [
    "list2 = [4,5,2,1,99,15,2,7,27]\n",
    "max_num = list2[0]\n",
    "for i in list2:\n",
    "    if max_num <i:\n",
    "        max_num=i\n",
    "print(max_num)"
   ]
  },
  {
   "cell_type": "markdown",
   "id": "08752cf1",
   "metadata": {},
   "source": [
    "#  최솟값 찾기"
   ]
  },
  {
   "cell_type": "code",
   "execution_count": 23,
   "id": "09a56c49",
   "metadata": {},
   "outputs": [
    {
     "name": "stdout",
     "output_type": "stream",
     "text": [
      "1\n"
     ]
    }
   ],
   "source": [
    "list2 = [4,5,2,1,99,15,2,7,27]\n",
    "min_num = list2[0]\n",
    "for i in list2:\n",
    "    if min_num >i:\n",
    "        min_num=i\n",
    "print(min_num)"
   ]
  },
  {
   "cell_type": "markdown",
   "id": "0057bdb4",
   "metadata": {},
   "source": [
    "# max 함수"
   ]
  },
  {
   "cell_type": "code",
   "execution_count": 24,
   "id": "6183256a",
   "metadata": {},
   "outputs": [
    {
     "data": {
      "text/plain": [
       "99"
      ]
     },
     "execution_count": 24,
     "metadata": {},
     "output_type": "execute_result"
    }
   ],
   "source": [
    "list3 = [4,5,2,1,99,15,2,7,27]\n",
    "max(list3 )"
   ]
  },
  {
   "cell_type": "code",
   "execution_count": 25,
   "id": "cbf53099",
   "metadata": {},
   "outputs": [
    {
     "name": "stdout",
     "output_type": "stream",
     "text": [
      "1683\n"
     ]
    }
   ],
   "source": [
    "sum=0\n",
    "for i in range(1,100):\n",
    "    if i%3==0:\n",
    "        sum =sum+i\n",
    "print(sum)\n",
    "       \n"
   ]
  },
  {
   "cell_type": "code",
   "execution_count": 26,
   "id": "bef8c40b",
   "metadata": {},
   "outputs": [
    {
     "name": "stdout",
     "output_type": "stream",
     "text": [
      "2* 1 = 2\n",
      "2* 2 = 4\n",
      "2* 3 = 6\n",
      "2* 4 = 8\n",
      "2* 5 = 10\n",
      "2* 6 = 12\n",
      "2* 7 = 14\n",
      "2* 8 = 16\n",
      "2* 9 = 18\n"
     ]
    }
   ],
   "source": [
    "for i in range(1,10,1):\n",
    "    print(\"2*\",i,\"=\", 2*i)\n",
    "       # print(f\"2 * {i} = {2*i}\")"
   ]
  },
  {
   "cell_type": "code",
   "execution_count": 2,
   "id": "03c5ffbe",
   "metadata": {},
   "outputs": [
    {
     "name": "stdout",
     "output_type": "stream",
     "text": [
      "정수 입력>>8\n",
      "1 2 4 8 "
     ]
    }
   ],
   "source": [
    "a =[]\n",
    "num = int(input(\"정수 입력>>\"))\n",
    "for i in range(1,num+1):\n",
    "    if num% i ==0:\n",
    "        a=i\n",
    "        print(a, end = \" \")"
   ]
  },
  {
   "cell_type": "code",
   "execution_count": 28,
   "id": "b5c9efc4",
   "metadata": {},
   "outputs": [
    {
     "name": "stdout",
     "output_type": "stream",
     "text": [
      "정수 입력>>\n"
     ]
    },
    {
     "ename": "ValueError",
     "evalue": "invalid literal for int() with base 10: ''",
     "output_type": "error",
     "traceback": [
      "\u001b[1;31m---------------------------------------------------------------------------\u001b[0m",
      "\u001b[1;31mValueError\u001b[0m                                Traceback (most recent call last)",
      "Input \u001b[1;32mIn [28]\u001b[0m, in \u001b[0;36m<cell line: 1>\u001b[1;34m()\u001b[0m\n\u001b[1;32m----> 1\u001b[0m num \u001b[38;5;241m=\u001b[39m \u001b[38;5;28;43mint\u001b[39;49m\u001b[43m(\u001b[49m\u001b[38;5;28;43minput\u001b[39;49m\u001b[43m(\u001b[49m\u001b[38;5;124;43m\"\u001b[39;49m\u001b[38;5;124;43m정수 입력>>\u001b[39;49m\u001b[38;5;124;43m\"\u001b[39;49m\u001b[43m)\u001b[49m\u001b[43m)\u001b[49m\n\u001b[0;32m      2\u001b[0m \u001b[38;5;28mprint\u001b[39m(\u001b[38;5;124mf\u001b[39m\u001b[38;5;124m\"\u001b[39m\u001b[38;5;132;01m{\u001b[39;00mnum\u001b[38;5;132;01m}\u001b[39;00m\u001b[38;5;124m의 약수 :\u001b[39m\u001b[38;5;124m\"\u001b[39m, end \u001b[38;5;241m=\u001b[39m \u001b[38;5;124m\"\u001b[39m\u001b[38;5;124m \u001b[39m\u001b[38;5;124m\"\u001b[39m)\n\u001b[0;32m      3\u001b[0m \u001b[38;5;28;01mfor\u001b[39;00m i \u001b[38;5;129;01min\u001b[39;00m \u001b[38;5;28mrange\u001b[39m(\u001b[38;5;241m1\u001b[39m,num\u001b[38;5;241m+\u001b[39m\u001b[38;5;241m1\u001b[39m): \u001b[38;5;66;03m# num +1 을 해야 1부터 num 까지의 수가 나온다.\u001b[39;00m\n",
      "\u001b[1;31mValueError\u001b[0m: invalid literal for int() with base 10: ''"
     ]
    }
   ],
   "source": [
    "num = int(input(\"정수 입력>>\"))\n",
    "print(f\"{num}의 약수 :\", end = \" \")\n",
    "for i in range(1,num+1): # num +1 을 해야 1부터 num 까지의 수가 나온다.\n",
    "    if num% i == 0:\n",
    "        print(i, end = \" \")\n"
   ]
  },
  {
   "cell_type": "code",
   "execution_count": 32,
   "id": "e8f06582",
   "metadata": {},
   "outputs": [
    {
     "name": "stdout",
     "output_type": "stream",
     "text": [
      "*\n",
      "**\n",
      "***\n",
      "****\n",
      "*****\n",
      "******\n"
     ]
    }
   ],
   "source": [
    "\n",
    "for i in range(1,7):\n",
    "     print(\"*\"*i)  \n",
    "            # *을 1번 곱하면 * , 2번 곱하면 **, ...\n",
    "    "
   ]
  },
  {
   "cell_type": "code",
   "execution_count": 34,
   "id": "b246f486",
   "metadata": {},
   "outputs": [
    {
     "name": "stdout",
     "output_type": "stream",
     "text": [
      "줄 수 입력>>6\n",
      "*\n",
      "**\n",
      "***\n",
      "****\n",
      "*****\n",
      "******\n"
     ]
    }
   ],
   "source": [
    "i = int(input(\"줄 수 입력>>\"))\n",
    "for i in range(1,i+1):\n",
    "     print(\"*\"*i) "
   ]
  },
  {
   "cell_type": "code",
   "execution_count": 31,
   "id": "d7bd4b20",
   "metadata": {},
   "outputs": [
    {
     "name": "stdout",
     "output_type": "stream",
     "text": [
      "줄 수 입력>>3\n",
      "*\n",
      "**\n",
      "***\n",
      "****\n",
      "***\n",
      "**\n",
      "*\n"
     ]
    }
   ],
   "source": [
    "i = int(input(\"줄 수 입력>>\"))\n",
    "for i in range(1,i+1):\n",
    "    print(\"*\"*i) \n",
    "for i in range(i+1,0,-1):\n",
    "    print(\"*\"*i) "
   ]
  },
  {
   "cell_type": "code",
   "execution_count": null,
   "id": "47c2dbeb",
   "metadata": {},
   "outputs": [],
   "source": [
    "for i in range(1,6,1):\n",
    "    print(\"*\"*i)\n",
    "for i in range(6,0,-1):\n",
    "    print(\"*\"*i)"
   ]
  },
  {
   "cell_type": "code",
   "execution_count": null,
   "id": "142fcee6",
   "metadata": {},
   "outputs": [],
   "source": [
    "start =int(input(\"첫 번째 정수 입력 >> \"))\n",
    "end = int(input(\"두 번째 정수 입력 >> \"))\n",
    "print(\"정수 :\", end = \" \")\n",
    "for i in range(start, end+1):\n",
    "     print(i, end= \" \")"
   ]
  },
  {
   "cell_type": "code",
   "execution_count": null,
   "id": "66832c1b",
   "metadata": {},
   "outputs": [],
   "source": [
    "num1 = int(input(\"첫 번째 정수 입력 >>\"))\n",
    "num2 = int(input(\"두 번째 정수 입력 >>\"))\n",
    "a = int(input(\"배수 입력 >>\"))\n",
    "sum = 0\n",
    "for i in range(num1, num2+1):\n",
    "    if i %a ==0:   #약수는 a%i, 이고 배수는 i%a\n",
    "        sum +=i\n",
    "print(f\"{a}의 배수의 합 : {sum}\")"
   ]
  },
  {
   "cell_type": "code",
   "execution_count": null,
   "id": "8a72d34f",
   "metadata": {},
   "outputs": [],
   "source": [
    "s = \".nohtyp deen uoY ,trohs oot si efiL\"\n",
    "print(len(s)) #len이 35면 인덱스는 0 부터 시작이므로 0~ 34까지 있다\n",
    "for i in range(s[34],s[-1],-1):\n",
    "    print(i)  "
   ]
  },
  {
   "cell_type": "code",
   "execution_count": null,
   "id": "4baadb74",
   "metadata": {},
   "outputs": [],
   "source": [
    "#양의 인덱스 활용\n",
    "s = \".nohtyp deen uoY ,trohs oot si efiL\"\n",
    "print(len(s)) #len이 35면 인덱스는 0 부터 시작이므로 0~ 34까지 있다\n",
    "for i in range(len(s)-1,-1,-1):\n",
    "    print(s[i], end = \"\")  "
   ]
  },
  {
   "cell_type": "code",
   "execution_count": null,
   "id": "e92ebe8b",
   "metadata": {},
   "outputs": [],
   "source": [
    "#양의 인덱스 활용\n",
    "s = \".nohtyp deen uoY ,trohs oot si efiL\"\n",
    "print(len(s)) #len이 35면 인덱스는 0 부터 시작이므로 0~ 34까지 있다\n",
    "for i in range(-1,-len(s)-1,-1):\n",
    "    print(s[i], end = \"\")  "
   ]
  },
  {
   "cell_type": "code",
   "execution_count": null,
   "id": "7d370394",
   "metadata": {},
   "outputs": [],
   "source": [
    "a=2\n",
    "while True:\n",
    "    \n",
    "    for i in range(1,10):\n",
    "        print(f\"{a}*{i}={a*i}\",end =\"  \")\n",
    "    print(\"\\n\")\n",
    "    a+=1\n",
    "    if a>9:\n",
    "        break"
   ]
  },
  {
   "cell_type": "code",
   "execution_count": null,
   "id": "208aaad9",
   "metadata": {},
   "outputs": [],
   "source": [
    "for k in range(1,10,1):\n",
    "    for i in range(2,10,1):\n",
    "        print(f\"{i}*{k}={i*k}\",end = \"\\t\")\n",
    "    print()\n",
    "# 출력은 가로 먼저"
   ]
  },
  {
   "cell_type": "code",
   "execution_count": null,
   "id": "ab9ca21f",
   "metadata": {},
   "outputs": [],
   "source": [
    "for i in range(2,10,1):\n",
    "    for k in range(1,10,1):\n",
    "        print(f\"{i}*{k}={i*k}\",end =\"  \")\n",
    "    print()"
   ]
  },
  {
   "cell_type": "code",
   "execution_count": null,
   "id": "390bc38f",
   "metadata": {},
   "outputs": [],
   "source": [
    "list1 = [1,30,7,9,17,3,5,23,44]\n",
    "sum = 0\n",
    "for i in list1:\n",
    "    #짝수인 경우\n",
    "    if i %2 ==0:\n",
    "        sum+=1\n",
    "print(f\"짝수 {sum}개, 홀수{len(list1)-sum}개\")\n",
    "        "
   ]
  },
  {
   "cell_type": "code",
   "execution_count": null,
   "id": "7b911f94",
   "metadata": {},
   "outputs": [],
   "source": [
    "list1 = [1,30,7,9,17,3,5,23,44]\n",
    "odd = 0 \n",
    "even = 0\n",
    "for i in list1:\n",
    "    if i % 2 == 0:\n",
    "        even+=1\n",
    "    else:\n",
    "        odd +=1\n",
    "print(f\"짝수 {even}개, 홀수{odd}개\")"
   ]
  },
  {
   "cell_type": "code",
   "execution_count": 10,
   "id": "580dc414",
   "metadata": {},
   "outputs": [
    {
     "name": "stdout",
     "output_type": "stream",
     "text": [
      "OX 입력 >>OXO\n",
      "2점\n"
     ]
    }
   ],
   "source": [
    "ox = input('OX 입력 >>')\n",
    "score = 0\n",
    "result = 0\n",
    "for i in range(0,len(ox)):\n",
    "    if ox[i] =='O':\n",
    "        score += 1\n",
    "        result += score\n",
    "    else:\n",
    "        score = 0 \n",
    "print(f\"{result}점\")"
   ]
  },
  {
   "cell_type": "code",
   "execution_count": 8,
   "id": "dacda9db",
   "metadata": {},
   "outputs": [
    {
     "name": "stdout",
     "output_type": "stream",
     "text": [
      "이름\tPython\tJava\tDB\t평균\t학점\n",
      "박매일\t89\t78\t99\t\n",
      "김미희\t67\t88\t77\t\n",
      "강예진\t100\t55\t96\t\n",
      "평균\t \n"
     ]
    }
   ],
   "source": [
    "print(\"이름\\tPython\\tJava\\tDB\\t평균\\t학점\")\n",
    "score_list =[[\"박매일\",89,78,99],\n",
    "             [\"김미희\",67,88,77],\n",
    "             [\"강예진\",100,55,96]      \n",
    "             ]\n",
    "\n",
    "for i in range(0,len(score_list)) :\n",
    "    score = score_list[i]\n",
    "    for k in range(0,4):\n",
    "        list = score[k]\n",
    "        print(list, end = \"\\t\")\n",
    "\n",
    "    print()\n",
    "\n",
    "print(\"평균\\t \")"
   ]
  },
  {
   "cell_type": "code",
   "execution_count": null,
   "id": "24746663",
   "metadata": {
    "scrolled": true
   },
   "outputs": [],
   "source": [
    "print(\"=\"*50)\n",
    "print(\"이름\\t\", \"Python\\t \",  \"Java\\t \", \"DB\\t\", \"평균\\t\", \"학점\")\n",
    "print(\"=\"*50)\n",
    "score_list =[[\"박매일\",89,78,99],\n",
    "             [\"김미희\",67,88,77],\n",
    "             [\"강예진\",100,55,96],\n",
    "             \n",
    "             ]\n",
    "python, java,db = 0,0,0\n",
    "for i in score_list:\n",
    "    #선생님별 평균\n",
    "    \n",
    "    avg = (i[1]+i[2]+i[3])/3\n",
    "    #과목별 평균\n",
    "    avg_p,avg_j,avg_d = 0, 0, 0\n",
    "    \n",
    "    if avg >=90:\n",
    "        grade =\"A\"\n",
    "    elif avg>=80:\n",
    "        grade =\"B\"\n",
    "    elif avg>=70:\n",
    "        grade =\"C\"\n",
    "    elif avg>=60:\n",
    "        grade =\"D\"\n",
    "    else:\n",
    "        grade =\"F\"\n",
    "        \n",
    "        #4~6번째 줄까지 출력\n",
    "    print(i[0],\"\\t \",i[1],\"\\t \", i[2], \"\\t \", i[3],\"\\t \",int(avg), \"\\t\", grade)\n",
    "    #과목별 평균 알고리즘\n",
    "    python +=i[1] #python 점수의 합\n",
    "    java += i[2] # java 점수의 합\n",
    "    db  += i[3] #db 점수의 합\n",
    "    \n",
    "avg_p = python/len(score_list)\n",
    "avg_j = java/len(score_list)\n",
    "avg_d = db/len(score_list)\n",
    "print(\"=\"*50)\n",
    "print(\"평균 \\t \",int(avg_p),\"  \\t \",int(avg_j),\" \\t \", int(avg_d) )"
   ]
  },
  {
   "cell_type": "code",
   "execution_count": null,
   "id": "72223c00",
   "metadata": {},
   "outputs": [],
   "source": []
  },
  {
   "cell_type": "code",
   "execution_count": null,
   "id": "48b5bc62",
   "metadata": {},
   "outputs": [],
   "source": []
  }
 ],
 "metadata": {
  "kernelspec": {
   "display_name": "Python 3 (ipykernel)",
   "language": "python",
   "name": "python3"
  },
  "language_info": {
   "codemirror_mode": {
    "name": "ipython",
    "version": 3
   },
   "file_extension": ".py",
   "mimetype": "text/x-python",
   "name": "python",
   "nbconvert_exporter": "python",
   "pygments_lexer": "ipython3",
   "version": "3.9.12"
  },
  "toc": {
   "base_numbering": 1,
   "nav_menu": {},
   "number_sections": true,
   "sideBar": true,
   "skip_h1_title": false,
   "title_cell": "Table of Contents",
   "title_sidebar": "Contents",
   "toc_cell": false,
   "toc_position": {},
   "toc_section_display": true,
   "toc_window_display": false
  }
 },
 "nbformat": 4,
 "nbformat_minor": 5
}
