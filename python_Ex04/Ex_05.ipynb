{
 "cells": [
  {
   "cell_type": "code",
   "execution_count": null,
   "id": "8a2a39f1",
   "metadata": {},
   "outputs": [],
   "source": [
    "dic_test = {'노래제목':'참고사항', '가수':'이무진','날짜':'22.06.23'}\n",
    "dic_test"
   ]
  },
  {
   "cell_type": "code",
   "execution_count": null,
   "id": "46bd1021",
   "metadata": {},
   "outputs": [],
   "source": [
    "dic1 = {'name':'SW','age':26,'phone':'010-1234-5678','birth':'02/08'}\n",
    "dic1\n"
   ]
  },
  {
   "cell_type": "code",
   "execution_count": null,
   "id": "3f35e7fb",
   "metadata": {},
   "outputs": [],
   "source": [
    "dic1.keys()"
   ]
  },
  {
   "cell_type": "code",
   "execution_count": null,
   "id": "4198509b",
   "metadata": {},
   "outputs": [],
   "source": [
    "list(dic1.keys())"
   ]
  },
  {
   "cell_type": "code",
   "execution_count": null,
   "id": "01bb93f8",
   "metadata": {
    "scrolled": true
   },
   "outputs": [],
   "source": [
    "dic1.values()"
   ]
  },
  {
   "cell_type": "code",
   "execution_count": null,
   "id": "5656e599",
   "metadata": {},
   "outputs": [],
   "source": [
    "list(dic1.values())"
   ]
  },
  {
   "cell_type": "code",
   "execution_count": null,
   "id": "da04f5a4",
   "metadata": {},
   "outputs": [],
   "source": [
    "for key in dic1.keys():\n",
    "    print(key)"
   ]
  },
  {
   "cell_type": "code",
   "execution_count": null,
   "id": "0dd3caa0",
   "metadata": {},
   "outputs": [],
   "source": [
    "for value in dic1.values():\n",
    "    print(value)"
   ]
  },
  {
   "cell_type": "code",
   "execution_count": null,
   "id": "16b5c8f9",
   "metadata": {},
   "outputs": [],
   "source": [
    "for key,value in dic1.items():\n",
    "    print(key,\"\\t\",value)"
   ]
  },
  {
   "cell_type": "code",
   "execution_count": null,
   "id": "14a61f6a",
   "metadata": {},
   "outputs": [],
   "source": [
    "'name' in dic1"
   ]
  },
  {
   "cell_type": "code",
   "execution_count": null,
   "id": "5465eef0",
   "metadata": {},
   "outputs": [],
   "source": [
    "'gender' in dic1"
   ]
  },
  {
   "cell_type": "code",
   "execution_count": null,
   "id": "58921a3a",
   "metadata": {},
   "outputs": [],
   "source": [
    "dic1"
   ]
  },
  {
   "cell_type": "code",
   "execution_count": null,
   "id": "f135aaad",
   "metadata": {},
   "outputs": [],
   "source": [
    "dic1.clear()"
   ]
  },
  {
   "cell_type": "code",
   "execution_count": null,
   "id": "9a2fc113",
   "metadata": {},
   "outputs": [],
   "source": [
    "dic1"
   ]
  },
  {
   "cell_type": "markdown",
   "id": "a0ed815f",
   "metadata": {},
   "source": [
    "# 함수 구조"
   ]
  },
  {
   "cell_type": "code",
   "execution_count": null,
   "id": "02e530a0",
   "metadata": {},
   "outputs": [],
   "source": [
    "def number_suM(num1,num2):\n",
    "    result = num1 +num2\n",
    "    return result"
   ]
  },
  {
   "cell_type": "code",
   "execution_count": null,
   "id": "487245b5",
   "metadata": {},
   "outputs": [],
   "source": [
    "def number_minus(num1, num2) :\n",
    "    result = 0\n",
    "    if num1 > num2 :\n",
    "        result = num1 - num2\n",
    "    else :\n",
    "        result = num2 - num1\n",
    "    return result\n",
    "num1 = int(input(\"첫 번째 정수 입력 >> \"))\n",
    "num2 = int(input(\"두 번째 정수 입력 >> \"))\n",
    "result = number_minus(num1, num2)\n",
    "result"
   ]
  },
  {
   "cell_type": "code",
   "execution_count": null,
   "id": "73a703eb",
   "metadata": {},
   "outputs": [],
   "source": [
    "def number_minus(num1,num2):\n",
    "    result = 0\n",
    "    if num1>num2:\n",
    "        result = num1-num2\n",
    "    else:\n",
    "        result = num2 -num1\n",
    "    return result\n",
    "num1 = int(input(\"첫 번째 정수 입력>>\"))\n",
    "num2 = int(input(\"두 번째 정수 입력>>\"))\n",
    "result = number_minus(num1,num2)\n",
    "result"
   ]
  },
  {
   "cell_type": "code",
   "execution_count": null,
   "id": "603765d5",
   "metadata": {},
   "outputs": [],
   "source": [
    "def s_replace(s):\n",
    "    de "
   ]
  },
  {
   "cell_type": "code",
   "execution_count": null,
   "id": "abb90a94",
   "metadata": {},
   "outputs": [],
   "source": [
    "#함수 연습문제\n",
    "#문자열을 입력받아 \"ㅋ\"를 제거하고 return하는 함수를 정의 하시오\n",
    "# 함수 정의\n",
    "def s_replace(arg):\n",
    "    if 'ㅋ' in arg  :\n",
    "        result=arg.replace('ㅋ','')\n",
    "    return result\n",
    "s=input(\"들어갈 입력값을 입력하시오>>\")\n",
    "result= s_replace(s)\n",
    "result\n"
   ]
  },
  {
   "cell_type": "code",
   "execution_count": null,
   "id": "6ccacfae",
   "metadata": {},
   "outputs": [],
   "source": [
    "def s_replace(arg):\n",
    "    result=arg.replace('ㅋ','')\n",
    "    return result\n",
    "\n",
    "s=input(\"문자열입력>>\")\n",
    "result = s_replace(s)\n",
    "result"
   ]
  },
  {
   "cell_type": "code",
   "execution_count": null,
   "id": "1de379e3",
   "metadata": {},
   "outputs": [],
   "source": [
    "result1 = 0\n",
    "def cal(num1,num2,op):\n",
    "    \n",
    "    if op=='+':\n",
    "        result1 = num1+ num2\n",
    "    elif op=='-':\n",
    "        if num1>num2:\n",
    "            result1 =num1-num2\n",
    "        else:\n",
    "            result1 =num2-num1\n",
    "    return result1\n",
    "\n",
    "num1 = int(input(\"첫 번째 정수 입력>>\"))\n",
    "num2 = int(input(\"두 번째 정수 입력>>\"))\n",
    "op=input(\"연산자 입력(+,-)>>\")\n",
    "result1 = cal(num1,num2,op)\n",
    "result1"
   ]
  },
  {
   "cell_type": "code",
   "execution_count": null,
   "id": "c8d7ea70",
   "metadata": {},
   "outputs": [],
   "source": [
    "def divisor(num):\n",
    "    for i in range(1,num+1):\n",
    "        if num % i == 0:\n",
    "            print(i, end= \" \")"
   ]
  },
  {
   "cell_type": "code",
   "execution_count": null,
   "id": "941b5312",
   "metadata": {},
   "outputs": [],
   "source": [
    "#위 약수 출력\n",
    "divisor(10)  "
   ]
  },
  {
   "cell_type": "code",
   "execution_count": null,
   "id": "88e3a50f",
   "metadata": {},
   "outputs": [],
   "source": [
    "def add(*args):\n",
    "    print(args)"
   ]
  },
  {
   "cell_type": "code",
   "execution_count": null,
   "id": "e3523485",
   "metadata": {},
   "outputs": [],
   "source": [
    "add(1,2,3)"
   ]
  },
  {
   "cell_type": "code",
   "execution_count": 1,
   "id": "2a5eaed4",
   "metadata": {},
   "outputs": [],
   "source": [
    "def add(*args):\n",
    "    return sum(args)"
   ]
  },
  {
   "cell_type": "code",
   "execution_count": null,
   "id": "0efef937",
   "metadata": {},
   "outputs": [],
   "source": []
  },
  {
   "cell_type": "code",
   "execution_count": 11,
   "id": "456a6d09",
   "metadata": {},
   "outputs": [],
   "source": [
    "review_naver =[\"월 스미스가 하드캐리 ㅋㅋㅋㅋㅋㅋㅋ\",\n",
    "              \"쟈스민 너무 멋지고 팬 엄청나게 생길듯 ㅋㅋ\",\n",
    "              \"기대보다 더욱 재밌는 영화였다^^\"]\n",
    "review_google =[\"색감도 노래도 너무 화려하고 재밌었어요ㅋㅋㅋ\",\n",
    "               \"오늘부터 디즈니 팬입니다.ㅋㅋㅋ\",\n",
    "               \"디즈니의 새로운 해석도 놀랍고, 윌스미스도 신의 한수!\"]\n",
    "\n",
    "def string_replace(arge):\n",
    "    for i in arge:\n",
    "        print(i.replace(\"ㅋ\",\"\"))\n",
    "\n"
   ]
  },
  {
   "cell_type": "code",
   "execution_count": 12,
   "id": "545d5940",
   "metadata": {},
   "outputs": [
    {
     "name": "stdout",
     "output_type": "stream",
     "text": [
      "색감도 노래도 너무 화려하고 재밌었어요\n",
      "오늘부터 디즈니 팬입니다.\n",
      "디즈니의 새로운 해석도 놀랍고, 윌스미스도 신의 한수!\n",
      "월 스미스가 하드캐리 \n",
      "쟈스민 너무 멋지고 팬 엄청나게 생길듯 \n",
      "기대보다 더욱 재밌는 영화였다^^\n"
     ]
    }
   ],
   "source": [
    "string_replace(review_google)\n",
    "string_replace(review_naver)"
   ]
  },
  {
   "cell_type": "code",
   "execution_count": null,
   "id": "d0d964d2",
   "metadata": {},
   "outputs": [],
   "source": []
  },
  {
   "cell_type": "code",
   "execution_count": null,
   "id": "ca99c28a",
   "metadata": {},
   "outputs": [],
   "source": []
  },
  {
   "cell_type": "code",
   "execution_count": null,
   "id": "c0cff600",
   "metadata": {},
   "outputs": [],
   "source": []
  }
 ],
 "metadata": {
  "kernelspec": {
   "display_name": "Python 3 (ipykernel)",
   "language": "python",
   "name": "python3"
  },
  "language_info": {
   "codemirror_mode": {
    "name": "ipython",
    "version": 3
   },
   "file_extension": ".py",
   "mimetype": "text/x-python",
   "name": "python",
   "nbconvert_exporter": "python",
   "pygments_lexer": "ipython3",
   "version": "3.9.12"
  }
 },
 "nbformat": 4,
 "nbformat_minor": 5
}
