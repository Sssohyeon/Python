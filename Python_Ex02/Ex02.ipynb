{
 "cells": [
  {
   "cell_type": "code",
   "execution_count": 2,
   "id": "0e4ac15b",
   "metadata": {},
   "outputs": [
    {
     "data": {
      "text/plain": [
       "'오늘은 7월 3입니다.'"
      ]
     },
     "execution_count": 2,
     "metadata": {},
     "output_type": "execute_result"
    }
   ],
   "source": [
    "day = 3\n",
    "s = \"오늘은 7월 %d입니다.\" %day\n",
    "s"
   ]
  },
  {
   "cell_type": "markdown",
   "id": "cf111e71",
   "metadata": {},
   "source": [
    "### 포매팅 첫 번째 방법\n",
    "    •작은 소재목\n",
    "        •더 작은 소재목"
   ]
  },
  {
   "cell_type": "code",
   "execution_count": 6,
   "id": "6eb21161",
   "metadata": {
    "scrolled": true
   },
   "outputs": [
    {
     "data": {
      "text/plain": [
       "'오늘은 6월 22일 입니다.'"
      ]
     },
     "execution_count": 6,
     "metadata": {},
     "output_type": "execute_result"
    }
   ],
   "source": [
    "month = 6\n",
    "day = 22\n",
    "s = \"오늘은 %d월 %d일 입니다.\"%(month, day)\n",
    "s"
   ]
  },
  {
   "cell_type": "markdown",
   "id": "b20c3e8e",
   "metadata": {},
   "source": [
    "# 포매팅 두 번째 방법"
   ]
  },
  {
   "cell_type": "markdown",
   "id": "d57f56ff",
   "metadata": {},
   "source": [
    "month = 6\n",
    "day = 22\n",
    "s = \"오늘은 {}d월 {}일 입니다.\".format(month, day)\n",
    "s"
   ]
  },
  {
   "cell_type": "markdown",
   "id": "f2392f0c",
   "metadata": {},
   "source": [
    "# f-string 포매팅"
   ]
  },
  {
   "cell_type": "code",
   "execution_count": 8,
   "id": "6ee08aa1",
   "metadata": {},
   "outputs": [
    {
     "data": {
      "text/plain": [
       "'오늘은 7월 7일 입니다.'"
      ]
     },
     "execution_count": 8,
     "metadata": {},
     "output_type": "execute_result"
    }
   ],
   "source": [
    "month = 7\n",
    "day = 7\n",
    "s = f\"오늘은 {month}월 {day}일 입니다.\"\n",
    "s"
   ]
  },
  {
   "cell_type": "code",
   "execution_count": 10,
   "id": "9071c7a0",
   "metadata": {},
   "outputs": [
    {
     "name": "stdout",
     "output_type": "stream",
     "text": [
      "100와 200의 합은 300입니다.\n"
     ]
    }
   ],
   "source": [
    "x = 100\n",
    "y = 200\n",
    "sum2 = x+ y\n",
    "print(\"%d와 %d의 합은 %d입니다.\"%(x,y,sum2))"
   ]
  },
  {
   "cell_type": "markdown",
   "id": "85d22c78",
   "metadata": {},
   "source": [
    "# 자주 사용하는 문자열 함수"
   ]
  },
  {
   "cell_type": "code",
   "execution_count": 12,
   "id": "87878c5e",
   "metadata": {},
   "outputs": [
    {
     "data": {
      "text/plain": [
       "3"
      ]
     },
     "execution_count": 12,
     "metadata": {},
     "output_type": "execute_result"
    }
   ],
   "source": [
    "#count 함수 : 문자열에 포함된 문자 개수 세기\n",
    "s = \"오늘 점심 메뉴는 탕수육입니다. 저는 탕수육을 매우 좋아해서 탕수육만 먹을겁니다.\"\n",
    "s.count(\"탕수육\")"
   ]
  },
  {
   "cell_type": "code",
   "execution_count": 14,
   "id": "61d2bb9c",
   "metadata": {},
   "outputs": [
    {
     "data": {
      "text/plain": [
       "'       오늘 점심 메뉴는 탕수육입니다.     '"
      ]
     },
     "execution_count": 14,
     "metadata": {},
     "output_type": "execute_result"
    }
   ],
   "source": [
    "#sprip 함수: 양쪽 공백 지우기\n",
    "s = \"       오늘 점심 메뉴는 탕수육입니다.     \"\n",
    "s"
   ]
  },
  {
   "cell_type": "code",
   "execution_count": 17,
   "id": "45c2ff45",
   "metadata": {},
   "outputs": [
    {
     "data": {
      "text/plain": [
       "'오늘 점심 메뉴는 탕수육입니다.'"
      ]
     },
     "execution_count": 17,
     "metadata": {},
     "output_type": "execute_result"
    }
   ],
   "source": [
    "s.strip()"
   ]
  },
  {
   "cell_type": "code",
   "execution_count": 25,
   "id": "37f8b069",
   "metadata": {},
   "outputs": [],
   "source": [
    "#replace 함수: 특정 문자를 원하는 문자로 변경하기\n",
    "s =  \"오늘 점심 메뉴는 탕수육입니다. 저는 탕수육을 매우 좋아해서 탕수육만 먹을겁니다\""
   ]
  },
  {
   "cell_type": "code",
   "execution_count": 26,
   "id": "f7d3488f",
   "metadata": {},
   "outputs": [
    {
     "data": {
      "text/plain": [
       "'오늘 점심 메뉴는 갈비입니다. 저는 갈비을 매우 좋아해서 갈비만 먹을겁니다'"
      ]
     },
     "execution_count": 26,
     "metadata": {},
     "output_type": "execute_result"
    }
   ],
   "source": [
    "s.replace(\"탕수육\",\"갈비\")"
   ]
  },
  {
   "cell_type": "code",
   "execution_count": 27,
   "id": "efb73b99",
   "metadata": {},
   "outputs": [
    {
     "data": {
      "text/plain": [
       "'오늘 점심 메뉴는 탕수육입니다. 저는 탕수육을 매우 좋아해서 탕수육만 먹을겁니다'"
      ]
     },
     "execution_count": 27,
     "metadata": {},
     "output_type": "execute_result"
    }
   ],
   "source": [
    "#split : 문자열을 특정 문자 기준으로 나누기\n",
    "s"
   ]
  },
  {
   "cell_type": "code",
   "execution_count": 28,
   "id": "a96b3a6c",
   "metadata": {},
   "outputs": [
    {
     "data": {
      "text/plain": [
       "['오늘 점심 메뉴는 탕수육입니다', ' 저는 탕수육을 매우 좋아해서 탕수육만 먹을겁니다']"
      ]
     },
     "execution_count": 28,
     "metadata": {},
     "output_type": "execute_result"
    }
   ],
   "source": [
    "s.split('.')"
   ]
  },
  {
   "cell_type": "markdown",
   "id": "66d24c45",
   "metadata": {},
   "source": [
    "#  나누기, 나머지, 몫"
   ]
  },
  {
   "cell_type": "code",
   "execution_count": null,
   "id": "895fa6bb",
   "metadata": {},
   "outputs": [],
   "source": []
  },
  {
   "cell_type": "code",
   "execution_count": 30,
   "id": "4f14f759",
   "metadata": {},
   "outputs": [
    {
     "name": "stdout",
     "output_type": "stream",
     "text": [
      "1.4285714285714286\n",
      "3\n",
      "1\n"
     ]
    }
   ],
   "source": [
    "num1 =10\n",
    "num2 = 7\n",
    "print(num1/num2)\n",
    "print(num1%num2)\n",
    "print(num1//num2)"
   ]
  },
  {
   "cell_type": "code",
   "execution_count": 31,
   "id": "5580b3ef",
   "metadata": {},
   "outputs": [
    {
     "name": "stdout",
     "output_type": "stream",
     "text": [
      "안녕하세요\n",
      "107\n"
     ]
    }
   ],
   "source": [
    "str1 = \"안녕\"\n",
    "str2 = \"하세요\"\n",
    "print(str1 + str2)\n",
    "str1 = \"10\"\n",
    "str2 = \"7\"\n",
    "print(str1 + str2)"
   ]
  },
  {
   "cell_type": "code",
   "execution_count": 33,
   "id": "432aab2b",
   "metadata": {},
   "outputs": [
    {
     "name": "stdout",
     "output_type": "stream",
     "text": [
      "107\n",
      "17\n"
     ]
    }
   ],
   "source": [
    "num1 =10\n",
    "str2 = \"7\"\n",
    "print(str(num1) + str2)\n",
    "print(num1 + int(str2))"
   ]
  },
  {
   "cell_type": "code",
   "execution_count": 43,
   "id": "29c20607",
   "metadata": {},
   "outputs": [
    {
     "name": "stdout",
     "output_type": "stream",
     "text": [
      "더하기 결과: 26\n",
      "빼기 결과: 20\n",
      "곱하기 결과: 69\n",
      "나누기 결과: 7.666667\n"
     ]
    }
   ],
   "source": [
    "num1 = 23\n",
    "num2 = 3\n",
    "print(\"더하기 결과: %d\" %(num1+num2))\n",
    "print(\"빼기 결과: %d\" %(num1-num2))\n",
    "print(\"곱하기 결과: %d\" %(num1*num2))\n",
    "print(\"나누기 결과: %lf\" %(num1/num2))"
   ]
  },
  {
   "cell_type": "code",
   "execution_count": 44,
   "id": "d0d1903e",
   "metadata": {},
   "outputs": [
    {
     "name": "stdout",
     "output_type": "stream",
     "text": [
      "정수를 입력하세요>>13\n"
     ]
    }
   ],
   "source": [
    "num = input(\"정수를 입력하세요>>\")"
   ]
  },
  {
   "cell_type": "code",
   "execution_count": 45,
   "id": "5fe3467c",
   "metadata": {},
   "outputs": [
    {
     "data": {
      "text/plain": [
       "'13'"
      ]
     },
     "execution_count": 45,
     "metadata": {},
     "output_type": "execute_result"
    }
   ],
   "source": [
    "num"
   ]
  },
  {
   "cell_type": "code",
   "execution_count": 46,
   "id": "56f6df45",
   "metadata": {
    "scrolled": true
   },
   "outputs": [
    {
     "name": "stdout",
     "output_type": "stream",
     "text": [
      "정수를 입력하세요>>12\n"
     ]
    }
   ],
   "source": [
    "num = int(input(\"정수를 입력하세요>>\"))"
   ]
  },
  {
   "cell_type": "code",
   "execution_count": 47,
   "id": "0e099780",
   "metadata": {},
   "outputs": [
    {
     "data": {
      "text/plain": [
       "12"
      ]
     },
     "execution_count": 47,
     "metadata": {},
     "output_type": "execute_result"
    }
   ],
   "source": [
    "num"
   ]
  },
  {
   "cell_type": "code",
   "execution_count": 53,
   "id": "b10a4a50",
   "metadata": {},
   "outputs": [
    {
     "name": "stdout",
     "output_type": "stream",
     "text": [
      "1\n",
      "2\n",
      "더하기 결과: 3\n",
      "빼기 결과:  -1\n",
      "곱하기 결과:  2\n",
      "나누기 결과:  0.5\n"
     ]
    }
   ],
   "source": [
    "num1 = int(input())\n",
    "num2 = int(input())\n",
    "print(\"더하기 결과:\",num1+num2)\n",
    "print(\"빼기 결과: \",num1-num2)\n",
    "print(\"곱하기 결과: \",num1*num2)\n",
    "print(\"나누기 결과: \",num1/num2)"
   ]
  },
  {
   "cell_type": "code",
   "execution_count": 69,
   "id": "8deb82d7",
   "metadata": {},
   "outputs": [
    {
     "name": "stdout",
     "output_type": "stream",
     "text": [
      "python 점수 입력1\n",
      "머신러닝 점수 입력1\n",
      "딥러닝 점수 입력1\n",
      "합계: 3\n",
      "평균: 1.0\n"
     ]
    }
   ],
   "source": [
    "p_test = int(input(\"python 점수 입력\"))\n",
    "m_test = int (input(\"머신러닝 점수 입력\"))\n",
    "d_test = int (input(\"딥러닝 점수 입력\"))\n",
    "sum1 = p_test+m_test + d_test\n",
    "av = (p_test+m_test + d_test)/3\n",
    "print(\"합계: {}\".format(sum1))\n",
    "print(\"평균: {}\".format(av))"
   ]
  },
  {
   "cell_type": "code",
   "execution_count": 7,
   "id": "381b7d3d",
   "metadata": {},
   "outputs": [
    {
     "name": "stdout",
     "output_type": "stream",
     "text": [
      "시간 입력>>7533\n",
      "2시간 5분 33초\n"
     ]
    }
   ],
   "source": [
    "time = int(input(\"시간 입력>>\"))\n",
    "hour = time//3600  #1 시간 = 60분 = 3600s\n",
    "minute = (time%3600)//60    #1분은 60 초\n",
    "second =time%3600%60    #time%3600%6 이 코드는 3600이 60의 배수니까 => time%60으로 해도 된다.\n",
    "print(\"%d시간 %d분 %d초\"%(hour,minute,second))"
   ]
  },
  {
   "cell_type": "code",
   "execution_count": 9,
   "id": "f4a8cc6f",
   "metadata": {},
   "outputs": [
    {
     "name": "stdout",
     "output_type": "stream",
     "text": [
      "xxxxxxxxxx\n",
      "안녕하세요안녕하세요\n"
     ]
    }
   ],
   "source": [
    "s=\"x\"\n",
    "print(s*10)\n",
    "st =\"안녕하세요\"\n",
    "print(st*2)"
   ]
  },
  {
   "cell_type": "code",
   "execution_count": 17,
   "id": "c548738b",
   "metadata": {},
   "outputs": [
    {
     "name": "stdout",
     "output_type": "stream",
     "text": [
      "**********연산하기**********\n",
      "정수 입력>>10\n",
      "정수 입력>>20\n",
      "+연산자 입력>>+\n",
      "10 + 20 = 30\n"
     ]
    }
   ],
   "source": [
    "print(\"**********연산하기**********\")\n",
    "num1 = int(input(\"정수 입력>>\"))\n",
    "num2 = int(input(\"정수 입력>>\"))\n",
    "cal = input(\"+연산자 입력>>\")\n",
    "print(\"%d %c %d = %d\"%(num1,cal,num2,num1+num2))\n",
    "\n"
   ]
  },
  {
   "cell_type": "markdown",
   "id": "27ec6b7f",
   "metadata": {},
   "source": [
    "# 지수 연산자"
   ]
  },
  {
   "cell_type": "code",
   "execution_count": 22,
   "id": "10cca04d",
   "metadata": {},
   "outputs": [
    {
     "name": "stdout",
     "output_type": "stream",
     "text": [
      "정수 입력>>2\n",
      "지수 입력>>2\n",
      "2의 2승은 4입니다.\n"
     ]
    }
   ],
   "source": [
    "num = int(input(\"정수 입력>>\"))\n",
    "power = int(input(\"지수 입력>>\"))\n",
    "print(f\"{num}의 {power}승은 {num**power}입니다.\")"
   ]
  },
  {
   "cell_type": "markdown",
   "id": "27047220",
   "metadata": {},
   "source": [
    "# 대입 연산자"
   ]
  },
  {
   "cell_type": "code",
   "execution_count": 23,
   "id": "f2d45a3c",
   "metadata": {},
   "outputs": [
    {
     "data": {
      "text/plain": [
       "30"
      ]
     },
     "execution_count": 23,
     "metadata": {},
     "output_type": "execute_result"
    }
   ],
   "source": [
    "num = 27\n",
    "num += 3\n",
    "num"
   ]
  },
  {
   "cell_type": "code",
   "execution_count": null,
   "id": "450499d2",
   "metadata": {},
   "outputs": [],
   "source": [
    "# 파이썬은 나누기 연산자가 나오면 실수 형태로 출력된다."
   ]
  },
  {
   "cell_type": "markdown",
   "id": "c1eda5bd",
   "metadata": {},
   "source": [
    "# 파이썬 치환"
   ]
  },
  {
   "cell_type": "code",
   "execution_count": 24,
   "id": "af80d232",
   "metadata": {},
   "outputs": [
    {
     "name": "stdout",
     "output_type": "stream",
     "text": [
      "3 1\n"
     ]
    }
   ],
   "source": [
    "a=1\n",
    "b=3\n",
    "a,b = b,a\n",
    "print(a,b)"
   ]
  },
  {
   "cell_type": "code",
   "execution_count": 28,
   "id": "57d2d4d9",
   "metadata": {},
   "outputs": [
    {
     "name": "stdout",
     "output_type": "stream",
     "text": [
      "False\n",
      "True\n",
      "False\n",
      "True\n"
     ]
    }
   ],
   "source": [
    "a = 3\n",
    "b = 7\n",
    "print(a>b)\n",
    "print(a<=b)\n",
    "print(a==b)\n",
    "print(a!=b)"
   ]
  },
  {
   "cell_type": "code",
   "execution_count": 62,
   "id": "6a738a56",
   "metadata": {},
   "outputs": [
    {
     "data": {
      "text/plain": [
       "3"
      ]
     },
     "execution_count": 62,
     "metadata": {},
     "output_type": "execute_result"
    }
   ],
   "source": [
    "random.randint(1,10)"
   ]
  },
  {
   "cell_type": "code",
   "execution_count": 65,
   "id": "760d0ed2",
   "metadata": {},
   "outputs": [
    {
     "name": "stdout",
     "output_type": "stream",
     "text": [
      "a:10,b:6\n",
      "False\n",
      "True\n",
      "False\n",
      "True\n"
     ]
    }
   ],
   "source": [
    "import random\n",
    "a = random.randint(1,10)\n",
    "b = random.randint(1,10)\n",
    "print(f\"a:{a},b:{b}\".format(a,b))\n",
    "print(a<b)\n",
    "print(a>b)\n",
    "print(a==b)\n",
    "print(a!=b)"
   ]
  },
  {
   "cell_type": "code",
   "execution_count": 66,
   "id": "a32520e4",
   "metadata": {},
   "outputs": [
    {
     "data": {
      "text/plain": [
       "False"
      ]
     },
     "execution_count": 66,
     "metadata": {},
     "output_type": "execute_result"
    }
   ],
   "source": [
    "a= 3 \n",
    "b=7\n",
    "not a<b"
   ]
  },
  {
   "cell_type": "code",
   "execution_count": 67,
   "id": "298dc96b",
   "metadata": {},
   "outputs": [
    {
     "data": {
      "text/plain": [
       "True"
      ]
     },
     "execution_count": 67,
     "metadata": {},
     "output_type": "execute_result"
    }
   ],
   "source": [
    "not a==b"
   ]
  },
  {
   "cell_type": "code",
   "execution_count": 68,
   "id": "7912d50f",
   "metadata": {},
   "outputs": [
    {
     "name": "stdout",
     "output_type": "stream",
     "text": [
      "False\n",
      "False\n",
      "True\n"
     ]
    }
   ],
   "source": [
    "print(3>5 and 10 ==20)\n",
    "print(3>5 and 10 <20)\n",
    "print(3<5 and 10 <20)"
   ]
  },
  {
   "cell_type": "code",
   "execution_count": 70,
   "id": "66c45149",
   "metadata": {},
   "outputs": [
    {
     "name": "stdout",
     "output_type": "stream",
     "text": [
      "False\n",
      "True\n",
      "True\n"
     ]
    }
   ],
   "source": [
    "print(3>5 or 10 ==20)\n",
    "print(3>5 or 10 <20)\n",
    "print(3<5 or 10 <20)"
   ]
  },
  {
   "cell_type": "markdown",
   "id": "fd1f30e4",
   "metadata": {},
   "source": [
    "# 삼항 연산자"
   ]
  },
  {
   "cell_type": "code",
   "execution_count": 72,
   "id": "ce0f28fb",
   "metadata": {},
   "outputs": [
    {
     "data": {
      "text/plain": [
       "'합격'"
      ]
     },
     "execution_count": 72,
     "metadata": {},
     "output_type": "execute_result"
    }
   ],
   "source": [
    "score = 80 \n",
    "\"합격\" if score >= 60 else \"불합격\""
   ]
  },
  {
   "cell_type": "code",
   "execution_count": 74,
   "id": "273ed697",
   "metadata": {},
   "outputs": [
    {
     "data": {
      "text/plain": [
       "'불합격'"
      ]
     },
     "execution_count": 74,
     "metadata": {},
     "output_type": "execute_result"
    }
   ],
   "source": [
    "score = 50 \n",
    "\"합격\" if score >= 60 else \"불합격\""
   ]
  },
  {
   "cell_type": "code",
   "execution_count": 79,
   "id": "facfb38e",
   "metadata": {},
   "outputs": [
    {
     "name": "stdout",
     "output_type": "stream",
     "text": [
      "정수입력>>1\n",
      "정수입력>>2\n",
      "b: 2\n"
     ]
    }
   ],
   "source": [
    "a = int(input(\"정수입력>>\"))\n",
    "b = int(input(\"정수입력>>\"))\n",
    "print(\"a:\",a) if a > b else print(\"b:\",b)  #조건식이 변경되면 조건도 변경해야 같은 결과값을 출력할 수 있다!"
   ]
  },
  {
   "cell_type": "code",
   "execution_count": 86,
   "id": "496d1e10",
   "metadata": {},
   "outputs": [
    {
     "name": "stdout",
     "output_type": "stream",
     "text": [
      "정수입력>>1\n",
      "정수입력>>0\n",
      "두 수의 차: 1\n"
     ]
    }
   ],
   "source": [
    "a = int(input(\"정수입력>>\"))\n",
    "b = int(input(\"정수입력>>\"))\n",
    "print(\"두 수의 차:\", a-b) if a>b else print(\"두 수의 차:\", b-a)"
   ]
  },
  {
   "cell_type": "code",
   "execution_count": 93,
   "id": "1e430167",
   "metadata": {
    "scrolled": true
   },
   "outputs": [
    {
     "name": "stdout",
     "output_type": "stream",
     "text": [
      "정수입력>>22\n",
      "22는(은) 짝수입니다.\n"
     ]
    }
   ],
   "source": [
    "a = int(input(\"정수입력>>\"))\n",
    "print(\"%d는(은) 홀수입니다.\"%a) if a%2!=0 else print(\"%d는(은) 짝수입니다.\"%a)"
   ]
  }
 ],
 "metadata": {
  "kernelspec": {
   "display_name": "Python 3 (ipykernel)",
   "language": "python",
   "name": "python3"
  },
  "language_info": {
   "codemirror_mode": {
    "name": "ipython",
    "version": 3
   },
   "file_extension": ".py",
   "mimetype": "text/x-python",
   "name": "python",
   "nbconvert_exporter": "python",
   "pygments_lexer": "ipython3",
   "version": "3.9.12"
  },
  "toc": {
   "base_numbering": 1,
   "nav_menu": {},
   "number_sections": true,
   "sideBar": true,
   "skip_h1_title": false,
   "title_cell": "Table of Contents",
   "title_sidebar": "Contents",
   "toc_cell": false,
   "toc_position": {},
   "toc_section_display": true,
   "toc_window_display": false
  }
 },
 "nbformat": 4,
 "nbformat_minor": 5
}
